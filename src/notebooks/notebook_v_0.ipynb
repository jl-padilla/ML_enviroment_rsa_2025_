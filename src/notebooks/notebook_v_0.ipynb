{
 "cells": [
  {
   "cell_type": "code",
   "execution_count": 2,
   "metadata": {},
   "outputs": [],
   "source": [
    "import pandas as pd"
   ]
  },
  {
   "cell_type": "markdown",
   "metadata": {},
   "source": [
    "PyPDF2 Ventajas:\n",
    "\n",
    "Fácil de usar para tareas básicas de lectura y manipulación de archivos PDF.\n",
    "\n",
    "Buena documentación y comunidad activa.\n",
    "\n",
    "Inconvenientes:\n",
    "\n",
    "La extracción de texto no siempre es precisa, especialmente en documentos PDF complejos.\n",
    "\n",
    "No es la mejor opción para extraer imágenes o tablas"
   ]
  },
  {
   "cell_type": "code",
   "execution_count": 3,
   "metadata": {},
   "outputs": [
    {
     "name": "stdout",
     "output_type": "stream",
     "text": [
      "RSA - AUTONOMOS-AS\n",
      "Empresa evaluada\n",
      "ALBERTO BLANCO CORVINOS -\n",
      "GESTORINFORMATICO.COM\n",
      "CIF:18050059G\n",
      "C/Felipe Coscolla nº:16, 1ºD\n",
      "22004 - Huesca\n",
      "Huesca\n",
      "DATOS DE LA EMPRESA\n",
      "01 - Denominación de la organización\n",
      "ALBERTO BLANCO CORVINOS cómo autónomo sin empleados, marca comercial\n",
      "gestorinformatico.com\n",
      "02 - Dirección - CP - POBLACION\n",
      "C/ Felipe Coscolla 16 1ºDrcha, 22004, HUESCA (Huesca)\n",
      "03 - Sector. Actividad\n",
      "Gestión de nuevas tecnologías en la Pyme (asociaciones, Pymes y autónomos), desarrollo\n",
      "web, mantenimiento Hardware/Software & Redes informáticas, Gestión Cloud Computing,\n",
      "Hosting & RSS\n",
      "04 - Año comienzo actividad.\n",
      "Enero de 2019\n",
      "05 - Persona de contacto\n",
      "ALBERTO BLANCO CORVINOS\n",
      "677461744\n",
      "06 - e-mail contacto:\n",
      "albertoblancoonline@gmail.com\n",
      "07.- Página web\n",
      "gestorinformatico.com\n",
      "albertoblancor.com\n",
      "GENERAL\n",
      "Tendencias Globales\n",
      "1- Considera que su organización tiene en cuenta o se ve afectada, directa o\n",
      "indirectamente, por temas globales y generales como, por ejemplo:\n",
      "- Económicos (por ejemplo, creación de empleo, generación de riqueza, cumplimiento\n",
      "de la legalidad)\n",
      "- Políticos (por ejemplo, cambios de gobierno, alianzas con Administraciones Públicas)\n",
      "   [-1740472246] RSA - AUTONOMOS-AS  página 1/7\n"
     ]
    }
   ],
   "source": [
    "from PyPDF2 import PdfReader\n",
    "\n",
    "with open('RSA - AUTONOMOS-AS_ALBERTO BLANCO CORVINOS - GESTORINFORMATICO.COM.pdf', 'rb') as file:\n",
    "    reader = PdfReader(file)\n",
    "    page = reader.pages[0]\n",
    "    text = page.extract_text()\n",
    "    print(text)"
   ]
  },
  {
   "cell_type": "code",
   "execution_count": 4,
   "metadata": {},
   "outputs": [],
   "source": [
    "import fitz  # PyMuPDF\n",
    "\n",
    "def extraer_datos_empresa(pdf_path):\n",
    "    datos_empresa = {}\n",
    "    \n",
    "    with fitz.open(pdf_path) as pdf:\n",
    "        for page_num in range(len(pdf)):\n",
    "            page = pdf[page_num]\n",
    "            text = page.get_text()\n",
    "            # Puedes ajustar los siguientes extractores según el formato específico del PDF\n",
    "            if \"DATOS DE LA EMPRESA\" in text:\n",
    "                datos_empresa['nombre_organizacion'] = text.split('01 - Denominación de la organización\\n')[1].split('\\n')[0].strip()\n",
    "                datos_empresa['direccion'] = text.split('02 - Dirección - CP - POBLACION\\n')[1].split('\\n')[0].strip()\n",
    "                datos_empresa['sector'] = text.split('03 - Sector. Actividad\\n')[1].split('\\n')[0].strip()\n",
    "                datos_empresa['ano_comienzo_actividad'] = text.split('04 - Año comienzo actividad.\\n')[1].split('\\n')[0].strip()\n",
    "                datos_empresa['persona_contacto'] = text.split('05 - Persona de contacto\\n')[1].split('\\n')[0].strip()\n",
    "                datos_empresa['email_contacto'] = text.split('06 - e-mail contacto:\\n')[1].split('\\n')[0].strip()\n",
    "                datos_empresa['pagina_web'] = text.split('07.- Página web\\n')[1].split('\\n')[0].strip()\n",
    "                #datos_empresa['nivel_priorizacion_medio_ambiente'] = text.split('Trabajar para proteger y mejorar el medio ambiente')\n",
    "                break           \n",
    "    return datos_empresa\n",
    "\n",
    "\n",
    "# Ejemplo de uso\n",
    "pdf_path = 'RSA - AUTONOMOS-AS_ALBERTO BLANCO CORVINOS - GESTORINFORMATICO.COM.pdf'\n",
    "datos_empresa = extraer_datos_empresa(pdf_path)\n",
    "df = pd.DataFrame([datos_empresa])\n"
   ]
  },
  {
   "cell_type": "code",
   "execution_count": 5,
   "metadata": {},
   "outputs": [
    {
     "data": {
      "text/html": [
       "<div>\n",
       "<style scoped>\n",
       "    .dataframe tbody tr th:only-of-type {\n",
       "        vertical-align: middle;\n",
       "    }\n",
       "\n",
       "    .dataframe tbody tr th {\n",
       "        vertical-align: top;\n",
       "    }\n",
       "\n",
       "    .dataframe thead th {\n",
       "        text-align: right;\n",
       "    }\n",
       "</style>\n",
       "<table border=\"1\" class=\"dataframe\">\n",
       "  <thead>\n",
       "    <tr style=\"text-align: right;\">\n",
       "      <th></th>\n",
       "      <th>0</th>\n",
       "    </tr>\n",
       "  </thead>\n",
       "  <tbody>\n",
       "    <tr>\n",
       "      <th>nombre_organizacion</th>\n",
       "      <td>ALBERTO BLANCO CORVINOS cómo autónomo sin empl...</td>\n",
       "    </tr>\n",
       "    <tr>\n",
       "      <th>direccion</th>\n",
       "      <td>C/ Felipe Coscolla 16 1ºDrcha, 22004, HUESCA (...</td>\n",
       "    </tr>\n",
       "    <tr>\n",
       "      <th>sector</th>\n",
       "      <td>Gestión de nuevas tecnologías en la Pyme (asoc...</td>\n",
       "    </tr>\n",
       "    <tr>\n",
       "      <th>ano_comienzo_actividad</th>\n",
       "      <td>Enero de 2019</td>\n",
       "    </tr>\n",
       "    <tr>\n",
       "      <th>persona_contacto</th>\n",
       "      <td>ALBERTO BLANCO CORVINOS</td>\n",
       "    </tr>\n",
       "    <tr>\n",
       "      <th>email_contacto</th>\n",
       "      <td>albertoblancoonline@gmail.com</td>\n",
       "    </tr>\n",
       "    <tr>\n",
       "      <th>pagina_web</th>\n",
       "      <td>gestorinformatico.com</td>\n",
       "    </tr>\n",
       "  </tbody>\n",
       "</table>\n",
       "</div>"
      ],
      "text/plain": [
       "                                                                        0\n",
       "nombre_organizacion     ALBERTO BLANCO CORVINOS cómo autónomo sin empl...\n",
       "direccion               C/ Felipe Coscolla 16 1ºDrcha, 22004, HUESCA (...\n",
       "sector                  Gestión de nuevas tecnologías en la Pyme (asoc...\n",
       "ano_comienzo_actividad                                      Enero de 2019\n",
       "persona_contacto                                  ALBERTO BLANCO CORVINOS\n",
       "email_contacto                              albertoblancoonline@gmail.com\n",
       "pagina_web                                          gestorinformatico.com"
      ]
     },
     "execution_count": 5,
     "metadata": {},
     "output_type": "execute_result"
    }
   ],
   "source": [
    "df.T"
   ]
  },
  {
   "cell_type": "code",
   "execution_count": 6,
   "metadata": {},
   "outputs": [],
   "source": [
    "# Tenemos que considerar que los formularios de diferentes tipo de empresas cambian los numeros de los titulos y con el primer metodo solo sale la primera linea de texto. \n",
    "\n",
    "import fitz  # PyMuPDF\n",
    "import re\n",
    "\n",
    "def extraer_datos(pdf_path):\n",
    "    datos = {}\n",
    "    \n",
    "    with fitz.open(pdf_path) as pdf:\n",
    "        for page_num in range(len(pdf)):\n",
    "            page = pdf[page_num]\n",
    "            text = page.get_text()\n",
    "# Patrón tipo empresa:\n",
    "            patron_tipo = r\"\\n*RSA - (.*?)\\n*Empresa evaluada\"\n",
    "            match_tipo = re.search(patron_tipo, text, re.DOTALL)\n",
    "            if match_tipo:\n",
    "                datos['tipo_organizacion'] = match_tipo.group(1).replace(\"\\n\", \" \").strip()\n",
    "# Patrón datos nombre-direccion-sector-año comienzo-contacto:\n",
    "            patron_nombre = r\"\\d{2} - Denominación de la organización\\n(.*?)\\n\\d{2} - Dirección - CP - POBLACION\"\n",
    "            match_nombre = re.search(patron_nombre, text, re.DOTALL | re.IGNORECASE)\n",
    "            if match_nombre:\n",
    "                datos['nombre_organizacion'] = match_nombre.group(1).replace(\"\\n\", \" \").strip()\n",
    "            \n",
    "            patron_direccion = r\"\\d{2} - Dirección - CP - POBLACION\\n(.*?)\\n\\d{2} - Sector. Actividad\"\n",
    "            match_direccion = re.search(patron_direccion, text, re.DOTALL| re.IGNORECASE)\n",
    "            if match_direccion:\n",
    "                datos['direccion'] = match_direccion.group(1).replace(\"\\n\", \" \").strip()\n",
    "            \n",
    "            patron_sector = r'\\d{2} - Sector. Actividad\\n(.*?)\\n\\d{2} - Año comienzo actividad'\n",
    "            match_sector = re.search(patron_sector, text, re.DOTALL)\n",
    "            if match_sector:\n",
    "                datos['sector_actividad'] = match_sector.group(1).replace(\"\\n\", \" \").strip()\n",
    "\n",
    "            patron_ano_comienzo = r'\\d{2} - Año comienzo actividad.\\n(.*?)\\n\\d{2} - Persona de contacto'\n",
    "            match_ano_comienzo = re.search(patron_ano_comienzo, text, re.DOTALL)\n",
    "            if match_ano_comienzo:\n",
    "                datos['ano_comienzo_actividad'] = match_ano_comienzo.group(1).replace(\"\\n\", \" \").strip()\n",
    "\n",
    "            patron_persona_contacto = r'\\d{2} - Persona de contacto\\n(.*?)\\n\\d{2} - e-mail contacto:'\n",
    "            match_persona_contacto = re.search(patron_persona_contacto, text, re.DOTALL)\n",
    "            if match_persona_contacto:\n",
    "                datos['persona_contacto'] = match_persona_contacto.group(1).replace(\"\\n\", \" \").strip()\n",
    "\n",
    "            patron_email_contacto = r'\\d{2} - e-mail contacto:\\n(.*?)\\n\\d{2}.- Página web'\n",
    "            match_email_contacto = re.search(patron_email_contacto, text, re.DOTALL)\n",
    "            if match_email_contacto:\n",
    "                datos['email_contacto'] = match_email_contacto.group(1).replace(\"\\n\", \" \").strip()\n",
    "\n",
    "            patron_pagina_web = r'\\d{2}.- Página web\\n(.*?)\\n*GENERAL'\n",
    "            match_pagina_web = re.search(patron_pagina_web, text, re.DOTALL)\n",
    "            if match_pagina_web:\n",
    "                datos['pagina_web'] = match_pagina_web.group(1).replace(\"\\n\", \" \").strip()\n",
    "# Patrón Impacto ambiental de su actividad:\n",
    "            patron_impacto_actividad = r'\\nambiental en el desarrollo de la actividad\\?\\n(.*?)\\n\\d+.1. Información adicional.'\n",
    "            match_impacto_actividad = re.search(patron_impacto_actividad, text, re.DOTALL)\n",
    "            if match_impacto_actividad:\n",
    "                datos['impacto_actividad'] = match_impacto_actividad.group(1).replace(\"\\n\", \" \").strip()\n",
    "\n",
    "\n",
    "# Patrón para buscar la importancia de 1 a 10 que le da a \"Trabajar para proteger y mejorar el medio ambiente\"\n",
    "            patron_prioridad_medioambiental = r\"(\\d+) - Trabajar para proteger y mejorar el medio ambiente\"\n",
    "            match_prioridad_ma = re.search(patron_prioridad_medioambiental, text, re.DOTALL)\n",
    "            if match_prioridad_ma:\n",
    "                datos['prioridad mediambiental'] = match_prioridad_ma.group(1)\n",
    "# Patrón para buscar el áreas de mejora\n",
    "            patron_mejora = r\"\\d+ - ¿Podría enunciar un área de mejora\\?\\n(.*?)\\nAgenda 2030 y Objetivos de Desarrollo Sostenible\"\n",
    "            match_mejora = re.search(patron_mejora, text, re.DOTALL)\n",
    "            if match_mejora:\n",
    "                datos['mejora'] = match_mejora.group(1).replace(\"\\n\", \" \").strip()\n",
    "    return datos\n",
    "\n",
    "# Ejemplo de uso\n",
    "pdf_path = 'RSA - AUTONOMOS-AS_ALBERTO BLANCO CORVINOS - GESTORINFORMATICO.COM.pdf'\n",
    "datos = extraer_datos(pdf_path)\n",
    "df2 = pd.DataFrame([datos])\n",
    "\n"
   ]
  },
  {
   "cell_type": "code",
   "execution_count": 9,
   "metadata": {},
   "outputs": [
    {
     "name": "stdout",
     "output_type": "stream",
     "text": [
      "                                                                                                                                                                                                                0\n",
      "tipo_organizacion                                                                                                                                                                                    AUTONOMOS-AS\n",
      "nombre_organizacion                                                                                                    ALBERTO BLANCO CORVINOS cómo autónomo sin empleados, marca comercial gestorinformatico.com\n",
      "direccion                                                                                                                                                   C/ Felipe Coscolla 16 1ºDrcha, 22004, HUESCA (Huesca)\n",
      "sector_actividad         Gestión de nuevas tecnologías en la Pyme (asociaciones, Pymes y autónomos), desarrollo web, mantenimiento Hardware/Software & Redes informáticas, Gestión Cloud Computing, Hosting & RSS\n",
      "ano_comienzo_actividad                                                                                                                                                                              Enero de 2019\n",
      "persona_contacto                                                                                                                                                                ALBERTO BLANCO CORVINOS 677461744\n",
      "email_contacto                                                                                                                                                                      albertoblancoonline@gmail.com\n",
      "pagina_web                                                                                                                                                               gestorinformatico.com albertoblancor.com\n",
      "impacto_actividad                                                   Se evalúa el impacto ambiental y se llevan a cabo acciones para segregar y reciclar residuos y para reducir el consumo de recursos naturales.\n",
      "prioridad mediambiental                                                                                                                                                                                        10\n",
      "mejora                                   El no disponer de un presupuesto claro, el lograr más impacto en mi comunidad local... el ser freelance hace que tenga pocas opciones de contratación o subcontratación.\n"
     ]
    }
   ],
   "source": [
    "print(df2.T.to_string())\n",
    "\n"
   ]
  },
  {
   "cell_type": "code",
   "execution_count": null,
   "metadata": {},
   "outputs": [],
   "source": []
  },
  {
   "cell_type": "code",
   "execution_count": 11,
   "metadata": {},
   "outputs": [],
   "source": [
    "pdf_path_3 = 'RSA - AUTONOMOS-AS_ALBERTO BLANCO CORVINOS - GESTORINFORMATICO.COM.pdf'\n",
    "datos = extraer_datos(pdf_path_3)\n",
    "df3 = pd.DataFrame([datos])"
   ]
  },
  {
   "cell_type": "code",
   "execution_count": null,
   "metadata": {},
   "outputs": [],
   "source": []
  },
  {
   "cell_type": "code",
   "execution_count": 12,
   "metadata": {},
   "outputs": [
    {
     "name": "stdout",
     "output_type": "stream",
     "text": [
      "<class 'pandas.core.frame.DataFrame'>\n",
      "RangeIndex: 1 entries, 0 to 0\n",
      "Data columns (total 11 columns):\n",
      " #   Column                   Non-Null Count  Dtype \n",
      "---  ------                   --------------  ----- \n",
      " 0   tipo_organizacion        1 non-null      object\n",
      " 1   nombre_organizacion      1 non-null      object\n",
      " 2   direccion                1 non-null      object\n",
      " 3   sector_actividad         1 non-null      object\n",
      " 4   ano_comienzo_actividad   1 non-null      object\n",
      " 5   persona_contacto         1 non-null      object\n",
      " 6   email_contacto           1 non-null      object\n",
      " 7   pagina_web               1 non-null      object\n",
      " 8   impacto_actividad        1 non-null      object\n",
      " 9   prioridad mediambiental  1 non-null      object\n",
      " 10  mejora                   1 non-null      object\n",
      "dtypes: object(11)\n",
      "memory usage: 220.0+ bytes\n"
     ]
    }
   ],
   "source": [
    "df3.info()\n"
   ]
  },
  {
   "cell_type": "markdown",
   "metadata": {},
   "source": [
    "| Variable                  | Tipo   |Descripción|\n",
    "|---------------------------|--------|-|\n",
    "| tipo_organizacion         | object |Autonomo (120), Pequeña empresa (850), Mediana empresa (124), Gran empresa (113), Empresa publica (18), Entidades(301), Ong(47), ojo el formulario es el mismo en contenido pero se han detectado diferencias, necesario ajustes |\n",
    "| nombre_organizacion       | object |Anonimizaremos por Tipo+numero|\n",
    "| direccion                 | object |Nos servira para geolocalizar en mapa|\n",
    "| sector_actividad          | object |Analizar, variable importante para agrupar, esta en lenguaje natural, habra que standarizarla de alguna forma|\n",
    "| ano_comienzo_actividad    | object |Convertir a temporal, consideramos puede ser relevante|\n",
    "| persona_contacto          | object |Anonimizar, se usara en la fase de contacto|\n",
    "| email_contacto            | object |Anonimizar, seria interesante analizar codigo necesario para envio masivo email contacto|\n",
    "| pagina_web                | object |Solo util para profundizar departamento comercial para adecuar oferta de servicios y conocer al cliente.|\n",
    "| impacto_actividad         | object |Es lenguaje natural y recoge la valoración que da el cliente al impacto de su actividad en el medioambiente, puede ser interesante o no|\n",
    "| prioridad mediambiental   | object |En un primer momento valoro solo indicar de 1 a 10 la importancia que le da a medioambiente, pero barajo la opcion de extender y recoger la escala de priorizacion de las 10 propuesta, ya que podria aportar matices del perfil de la entidad\n",
    "|||Emplear prácticas empresariales abiertas y transparentes\n",
    "|||Gestionar con ejemplaridad\n",
    "|||Escuchar las necesidades y expectativas de sus grupos de interés\n",
    "|||Poner en práctica medidas responsables en la gestión de Recursos Humanos\n",
    "|||Ofrecer productos y servicios de calidad\n",
    "|||Capacitación y desarrollo profesional\n",
    "|||Disponer de presupuesto\n",
    "|||Trabajar para proteger y mejorar el medio ambiente\n",
    "|||Crear Programas con impacto positivo en la Comunicad Local\n",
    "|||Ser un negocio rentable y sostenible en el tiempo|\n",
    "| mejora                    | object |Es lenguaje natural y creo seria interesante detectar palabras claves que releven necesidades a cubrir en medioambiente o en otras areas que detecten nichos de mercado futuros para la entidad|\n"
   ]
  }
 ],
 "metadata": {
  "kernelspec": {
   "display_name": "Python 3",
   "language": "python",
   "name": "python3"
  },
  "language_info": {
   "codemirror_mode": {
    "name": "ipython",
    "version": 3
   },
   "file_extension": ".py",
   "mimetype": "text/x-python",
   "name": "python",
   "nbconvert_exporter": "python",
   "pygments_lexer": "ipython3",
   "version": "3.12.8"
  }
 },
 "nbformat": 4,
 "nbformat_minor": 2
}
